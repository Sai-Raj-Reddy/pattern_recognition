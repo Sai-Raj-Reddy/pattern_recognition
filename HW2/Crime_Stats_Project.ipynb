{
  "cells": [
    {
      "cell_type": "markdown",
      "id": "55e6b918-afac-43e8-b338-43f8ac64014f",
      "metadata": {
        "id": "55e6b918-afac-43e8-b338-43f8ac64014f"
      },
      "source": [
        "##  Deep Neural Networks Project"
      ]
    },
    {
      "cell_type": "markdown",
      "id": "1a8e066d-2849-4a6e-9c71-bb98d605ae07",
      "metadata": {
        "id": "1a8e066d-2849-4a6e-9c71-bb98d605ae07"
      },
      "source": [
        "In this project, you will be working with a real-world data set from the Las Vegas Metropolitan Police Department. The dataset  contains information about the reported incidents, including the time and location of the crime, type of incident, and number of persons involved."
      ]
    },
    {
      "cell_type": "markdown",
      "id": "9e87fac7-352a-4c39-b087-76254b5e2743",
      "metadata": {
        "id": "9e87fac7-352a-4c39-b087-76254b5e2743"
      },
      "source": [
        "The dataset is downloaded from the public docket at:\n",
        "https://opendata-lvmpd.hub.arcgis.com\n",
        "\n",
        "let's read the csv file and transform the data:"
      ]
    },
    {
      "cell_type": "code",
      "execution_count": 83,
      "id": "637211a4-582f-426b-a127-c3f284463f35",
      "metadata": {
        "id": "637211a4-582f-426b-a127-c3f284463f35"
      },
      "outputs": [],
      "source": [
        "import torch\n",
        "import pandas as pd\n",
        "from torch.utils.data import DataLoader, TensorDataset\n",
        "import matplotlib.pyplot as plt\n",
        "import seaborn as sns\n",
        "import numpy as np"
      ]
    },
    {
      "cell_type": "code",
      "execution_count": 84,
      "id": "bcf40b02-80b6-4abc-a662-f7ed50a65181",
      "metadata": {
        "colab": {
          "base_uri": "https://localhost:8080/"
        },
        "id": "bcf40b02-80b6-4abc-a662-f7ed50a65181",
        "outputId": "09116565-2e43-4139-aa6d-74d4cb6d3606"
      },
      "outputs": [
        {
          "output_type": "stream",
          "name": "stdout",
          "text": [
            "anscombe.json\t\t     california_housing_train.csv  mnist_test.csv\t  README.md\n",
            "california_housing_test.csv  LVMPD-Stats.csv\t\t   mnist_train_small.csv\n"
          ]
        }
      ],
      "source": [
        "# orig_df = pd.read_csv('../../datasets/LVMPD-Stats.csv', parse_dates=['ReportedOn'])\n",
        "orig_df = pd.read_csv('sample_data/LVMPD-Stats.csv', parse_dates=['ReportedOn'])\n",
        "# !pwd\n",
        "!ls sample_data"
      ]
    },
    {
      "cell_type": "code",
      "execution_count": 85,
      "id": "e1ca1d15-3955-4971-a3c4-c1a73b62edda",
      "metadata": {
        "id": "e1ca1d15-3955-4971-a3c4-c1a73b62edda"
      },
      "outputs": [],
      "source": [
        "# df = pd.read_csv('../../datasets/LVMPD-Stats.csv', parse_dates=['ReportedOn'],\n",
        "#                  usecols = ['X', 'Y', 'ReportedOn',\n",
        "#                             'Area_Command','NIBRSOffenseCode',\n",
        "#                             'VictimCount' ] )\n",
        "df = pd.read_csv('sample_data/LVMPD-Stats.csv', parse_dates=['ReportedOn'],\n",
        "                 usecols = ['X', 'Y', 'ReportedOn',\n",
        "                            'Area_Command','NIBRSOffenseCode',\n",
        "                            'VictimCount' ] )\n",
        "# # print(set(list(df['VictimCount'])))\n",
        "# print(df['VictimCount'])\n",
        "df['DayOfWeek'] = df['ReportedOn'].dt.day_name()\n",
        "df['Time' ]     = df['ReportedOn'].dt.hour\n",
        "# df['Time'] = pd.factorize(df['Time'])\n",
        "# print((pd.factorize(df['Time'].head())))\n",
        "df.drop(columns = 'ReportedOn', inplace=True)"
      ]
    },
    {
      "cell_type": "code",
      "execution_count": 86,
      "id": "3ddc413d-ba3f-4204-bc18-7fdd4de8d221",
      "metadata": {
        "id": "3ddc413d-ba3f-4204-bc18-7fdd4de8d221"
      },
      "outputs": [],
      "source": [
        "\n",
        "df['X'] = df['X']\n",
        "df['Y'] = df['Y']\n",
        "df['Time'] = pd.factorize(df['Time'])[0]\n",
        "df['DayOfWeek'] = pd.factorize(df['DayOfWeek'])[0]\n",
        "df.Area_Command = pd.factorize(df['Area_Command'])[0]\n",
        "df2=df[['X', 'Y', 'Area_Command', 'NIBRSOffenseCode',\n",
        "       'DayOfWeek', 'Time','VictimCount']]\n",
        "df.VictimCount = pd.factorize(df['VictimCount'])[0]\n",
        "# print(df['VictimCount'])\n",
        "df.NIBRSOffenseCode = pd.factorize(df['NIBRSOffenseCode'])[0]\n",
        "df.dropna(inplace=True)"
      ]
    },
    {
      "cell_type": "code",
      "execution_count": 33,
      "id": "a9c6162f-9686-4195-818d-950a6368c686",
      "metadata": {
        "id": "a9c6162f-9686-4195-818d-950a6368c686"
      },
      "outputs": [],
      "source": [
        "df= df[['X', 'Y', 'Area_Command', 'NIBRSOffenseCode',\n",
        "       'DayOfWeek', 'Time','VictimCount']]"
      ]
    },
    {
      "cell_type": "code",
      "execution_count": 34,
      "id": "a90bc78a-6d1b-4fe4-a1b0-8333aec1c851",
      "metadata": {
        "colab": {
          "base_uri": "https://localhost:8080/"
        },
        "id": "a90bc78a-6d1b-4fe4-a1b0-8333aec1c851",
        "outputId": "b9e6a4eb-3d1a-4d3a-9b19-d74a4176d437"
      },
      "outputs": [
        {
          "output_type": "execute_result",
          "data": {
            "text/plain": [
              "(275, 7)"
            ]
          },
          "metadata": {},
          "execution_count": 34
        }
      ],
      "source": [
        "df.values.shape"
      ]
    },
    {
      "cell_type": "markdown",
      "id": "651605b1-8d2c-4d3e-a09e-9aef6e550fc6",
      "metadata": {
        "id": "651605b1-8d2c-4d3e-a09e-9aef6e550fc6"
      },
      "source": [
        "# Goal\n",
        "The goal is to build a predictive model that is trained on the following data:\n",
        "* latitude and longitude (location)\n",
        "* Hour of the day\n",
        "* Day of the week\n",
        "* Area-of-command code: The police designation of the bureau of the operation.\n",
        "* Classification code for the crime committed\n",
        "  \n",
        "The predicted variable is the number of persons involved in the accident.\n"
      ]
    },
    {
      "cell_type": "markdown",
      "id": "0e54f0b8-83f9-4db9-88f9-f5a595342069",
      "metadata": {
        "id": "0e54f0b8-83f9-4db9-88f9-f5a595342069"
      },
      "source": [
        "## Task 1\n",
        "* print a few rows of the values in the dataframe ``df`` and explain what each column of data means.\n",
        "* identify the input and target variables\n",
        "* what is the range of values in each column? Do you need to scale, shift or normalize your data?\n"
      ]
    },
    {
      "cell_type": "code",
      "source": [
        "print(df.head())\n"
      ],
      "metadata": {
        "colab": {
          "base_uri": "https://localhost:8080/"
        },
        "id": "FlPstDsmFn7n",
        "outputId": "47fdec3b-d48d-4eec-8d7d-c3ae62c7ee47"
      },
      "id": "FlPstDsmFn7n",
      "execution_count": 35,
      "outputs": [
        {
          "output_type": "stream",
          "name": "stdout",
          "text": [
            "            X          Y  Area_Command  NIBRSOffenseCode  DayOfWeek  Time  \\\n",
            "0 -115.087518  36.216702             0                 0          0     0   \n",
            "1 -115.240172  36.189693             1                 1          1     1   \n",
            "2 -115.143088  36.181329             2                 1          2     0   \n",
            "3 -115.225014  36.117633             3                 1          1     2   \n",
            "4 -115.176708  36.095967             4                 1          1     3   \n",
            "\n",
            "   VictimCount  \n",
            "0            0  \n",
            "1            0  \n",
            "2            1  \n",
            "3            2  \n",
            "4            0  \n"
          ]
        }
      ]
    },
    {
      "cell_type": "markdown",
      "source": [
        "\n",
        "\n",
        "*   Column 'X' is the longitude and 'Y' is the latitude of the location of the crime reported.\n",
        "*   Column 'Area_Command' and 'NIBRSOffenseCode' is the code associated with the area provided in the dataset and NIBRoffense code in the dataset respectively.\n",
        "*   Column 'DayOfWeek' and 'Time' is the code associated with the Day the crime was reported and the hour the crime was reported respectively.\n",
        "*   Column 'VictimCount' is the number of victims.\n",
        "\n",
        "\n",
        "*   Columns 'X','Y','Area_Command','NIBRSOffenseCode','DayOfWeek' and 'Time' are the input variables and 'VictimCount' is the target variable.\n",
        "\n",
        "\n",
        "*   Column 'X': Range = (-116.0, -114.6255705)\n",
        "Column 'Y': Range = (35.0684190000001, 37.0000000000001)\n",
        "Column 'Area_Command': Range = (0, 11)\n",
        "Column 'NIBRSOffenseCode': Range = (0, 2)\n",
        "Column 'DayOfWeek': Range = (0, 6)\n",
        "Column 'Time': Range = (0, 23)\n",
        "Column 'VictimCount': Range = (0, 6)\n",
        "\n",
        "\n",
        "\n",
        "*  \n",
        "\n",
        "\n",
        "\n",
        "\n",
        "\n",
        "\n",
        "\n"
      ],
      "metadata": {
        "id": "hmtJsMR2OIEC"
      },
      "id": "hmtJsMR2OIEC"
    },
    {
      "cell_type": "markdown",
      "id": "5549ecc9-3c0b-4efa-9a1f-340a25a1e4be",
      "metadata": {
        "id": "5549ecc9-3c0b-4efa-9a1f-340a25a1e4be"
      },
      "source": [
        "## Task 2\n",
        "\n",
        "* Create two `DataLoader` objects for training and testing based on the input and output variables. Pick a reasonable batch size and verify the shape of data by iterating over the one dataset and printing the shape of the batched data."
      ]
    },
    {
      "cell_type": "code",
      "execution_count": 92,
      "id": "00fe4287-934b-4799-9e43-c3571acfbab4",
      "metadata": {
        "colab": {
          "base_uri": "https://localhost:8080/"
        },
        "id": "00fe4287-934b-4799-9e43-c3571acfbab4",
        "outputId": "fef788bb-755d-42bd-8bff-a5a3a3b7484b"
      },
      "outputs": [
        {
          "output_type": "stream",
          "name": "stdout",
          "text": [
            "X_batch shape: torch.Size([32, 6])\n",
            "Y_batch shape: torch.Size([32])\n",
            "X_batch shape: torch.Size([32, 6])\n",
            "Y_batch shape: torch.Size([32])\n",
            "X_batch shape: torch.Size([32, 6])\n",
            "Y_batch shape: torch.Size([32])\n",
            "X_batch shape: torch.Size([32, 6])\n",
            "Y_batch shape: torch.Size([32])\n",
            "X_batch shape: torch.Size([32, 6])\n",
            "Y_batch shape: torch.Size([32])\n",
            "X_batch shape: torch.Size([32, 6])\n",
            "Y_batch shape: torch.Size([32])\n",
            "X_batch shape: torch.Size([28, 6])\n",
            "Y_batch shape: torch.Size([28])\n"
          ]
        }
      ],
      "source": [
        "from sklearn.model_selection import train_test_split\n",
        "X = df[['X', 'Y', 'Area_Command', 'NIBRSOffenseCode', 'DayOfWeek', 'Time']].values\n",
        "# print(X)\n",
        "Y = df['VictimCount'].values\n",
        "# print(Y)\n",
        "X_tensor = torch.Tensor(X)\n",
        "Y_tensor = torch.Tensor(Y)\n",
        "# dataset = TensorDataset(X_tensor, Y_tensor)\n",
        "# batch_size = 32\n",
        "# train_loader = DataLoader(dataset, batch_size=batch_size, shuffle=True)\n",
        "# test_loader = DataLoader(dataset, batch_size=batch_size)\n",
        "# for batch in train_loader:\n",
        "#     X_batch, Y_batch = batch\n",
        "#     print(\"X_batch shape:\", X_batch.shape)\n",
        "#     print(\"Y_batch shape:\", Y_batch.shape)\n",
        "X_train, X_test, Y_train, Y_test = train_test_split(X_tensor, Y_tensor, test_size=0.2)\n",
        "\n",
        "\n",
        "batch_size = 32\n",
        "train_dataset = TensorDataset(X_train, Y_train)\n",
        "test_dataset = TensorDataset(X_test, Y_test)\n",
        "\n",
        "train_loader = DataLoader(train_dataset, batch_size=batch_size, shuffle=True)\n",
        "test_loader = DataLoader(test_dataset, batch_size=batch_size)\n",
        "for batch in train_loader:\n",
        "    X_batch, Y_batch = batch\n",
        "    print(\"X_batch shape:\", X_batch.shape)\n",
        "    print(\"Y_batch shape:\", Y_batch.shape)"
      ]
    },
    {
      "cell_type": "markdown",
      "id": "1fb6f08c-5e70-4b14-b62c-4686d9f7aace",
      "metadata": {
        "id": "1fb6f08c-5e70-4b14-b62c-4686d9f7aace"
      },
      "source": [
        "## Task 3\n",
        "In this task you will try to predict number of crime victims as a **real number**. Therefore the machine learning problem is a **regression** problem.\n",
        "\n",
        "* Define the proper loss function for this task\n",
        "* what should the size of the predicted output be?\n",
        "* explain your choice of architecture, including how many layers you will be using\n",
        "* define an optimizer for training this model, choose a proper learning rate\n",
        "* write a training loop that obtains a batch out of the  training data and calculates the forward and backward passes over the neural network. Call the optimizer to update the weights of the neural network.\n",
        "* write a for loop that continues the training over a number of epochs. At the end of each epoch, calculate the ``MSE`` error on the test data and print it.\n",
        "* is your model training well? Adjust the learning rate, hidden size of the network, and try different activation functions and number of layers to achieve the best accuracy and report it."
      ]
    },
    {
      "cell_type": "markdown",
      "source": [
        "\n",
        "\n",
        "*   Mean Squared Error is the loss function. It is the average squared difference between your predicted values and the actual target values.\n",
        "*  The size of the predicted output should be 1.\n",
        "*   For this I am using an architecture with one input layer with same number of features of the data and hidden layer size starting with 32 and output layer with single neuron.\n",
        "*   Starting with Adam optimizer which is widely used for regression models and learning rate with 0.001\n",
        "\n",
        "\n"
      ],
      "metadata": {
        "id": "dTlFlQL6M_V6"
      },
      "id": "dTlFlQL6M_V6"
    },
    {
      "cell_type": "code",
      "source": [
        "import torch.nn as nn\n",
        "import torch.optim as optim\n",
        "\n",
        "class RegressionModel(nn.Module):\n",
        "    def __init__(self, input_size, hidden_size, output_size):\n",
        "        super(RegressionModel, self).__init__()\n",
        "        self.fc1 = nn.Linear(input_size, hidden_size)\n",
        "        self.fc2 = nn.Linear(hidden_size, output_size)\n",
        "\n",
        "    def forward(self, x):\n",
        "        x = torch.relu(self.fc1(x))\n",
        "        x = self.fc2(x)\n",
        "        return x\n",
        "\n",
        "input_size=6\n",
        "hidden_size=32\n",
        "output_size=1\n",
        "model = RegressionModel(input_size, hidden_size, output_size)\n",
        "\n",
        "criterion = nn.MSELoss()\n",
        "learning_rate = 0.01\n",
        "optimizer = optim.Adam(model.parameters(), lr=learning_rate)\n",
        "\n",
        "num_epochs = 10\n",
        "batch_size = 32\n",
        "\n",
        "for epoch in range(num_epochs):\n",
        "    # model.train()\n",
        "    for i in range(0, len(X_train), batch_size):\n",
        "        batch_X = X_train[i:i+batch_size]\n",
        "        batch_y = Y_train[i:i+batch_size]\n",
        "        outputs = model(batch_X)\n",
        "        # print(batch_y)\n",
        "        loss = criterion(outputs, batch_y)\n",
        "\n",
        "\n",
        "        optimizer.zero_grad()\n",
        "        loss.backward()\n",
        "        optimizer.step()\n",
        "\n",
        "        print(f'Epoch [{epoch+1}/{num_epochs}], Batch [{i//batch_size+1}], Loss: {loss.item():.4f}')\n",
        "\n"
      ],
      "metadata": {
        "colab": {
          "base_uri": "https://localhost:8080/"
        },
        "id": "5vesseSHTNut",
        "outputId": "3dbac07b-8c78-4f4e-9df5-7701888bc201"
      },
      "id": "5vesseSHTNut",
      "execution_count": 119,
      "outputs": [
        {
          "output_type": "stream",
          "name": "stdout",
          "text": [
            "Epoch [1/10], Batch [1], Loss: 198.5449\n",
            "Epoch [1/10], Batch [2], Loss: 33.4725\n",
            "Epoch [1/10], Batch [3], Loss: 6.2477\n",
            "Epoch [1/10], Batch [4], Loss: 53.1426\n",
            "Epoch [1/10], Batch [5], Loss: 79.3142\n",
            "Epoch [1/10], Batch [6], Loss: 59.7443\n",
            "Epoch [1/10], Batch [7], Loss: 31.0171\n",
            "Epoch [2/10], Batch [1], Loss: 9.8026\n",
            "Epoch [2/10], Batch [2], Loss: 2.3819\n",
            "Epoch [2/10], Batch [3], Loss: 8.6683\n",
            "Epoch [2/10], Batch [4], Loss: 20.1609\n",
            "Epoch [2/10], Batch [5], Loss: 27.5426\n",
            "Epoch [2/10], Batch [6], Loss: 30.6500\n",
            "Epoch [2/10], Batch [7], Loss: 21.0331\n",
            "Epoch [3/10], Batch [1], Loss: 8.5871\n",
            "Epoch [3/10], Batch [2], Loss: 3.8444\n",
            "Epoch [3/10], Batch [3], Loss: 1.6277\n",
            "Epoch [3/10], Batch [4], Loss: 5.2254\n",
            "Epoch [3/10], Batch [5], Loss: 10.8846\n",
            "Epoch [3/10], Batch [6], Loss: 12.0782\n",
            "Epoch [3/10], Batch [7], Loss: 11.4519\n",
            "Epoch [4/10], Batch [1], Loss: 10.0406\n",
            "Epoch [4/10], Batch [2], Loss: 5.9594\n",
            "Epoch [4/10], Batch [3], Loss: 2.1866\n",
            "Epoch [4/10], Batch [4], Loss: 1.1050\n",
            "Epoch [4/10], Batch [5], Loss: 2.2152\n",
            "Epoch [4/10], Batch [6], Loss: 5.8779\n",
            "Epoch [4/10], Batch [7], Loss: 6.7293\n",
            "Epoch [5/10], Batch [1], Loss: 5.3407\n",
            "Epoch [5/10], Batch [2], Loss: 6.0175\n",
            "Epoch [5/10], Batch [3], Loss: 3.1953\n",
            "Epoch [5/10], Batch [4], Loss: 1.3438\n",
            "Epoch [5/10], Batch [5], Loss: 1.3371\n",
            "Epoch [5/10], Batch [6], Loss: 1.9918\n",
            "Epoch [5/10], Batch [7], Loss: 2.2817\n",
            "Epoch [6/10], Batch [1], Loss: 3.6101\n",
            "Epoch [6/10], Batch [2], Loss: 4.1143\n",
            "Epoch [6/10], Batch [3], Loss: 2.6890\n",
            "Epoch [6/10], Batch [4], Loss: 1.9063\n",
            "Epoch [6/10], Batch [5], Loss: 1.5055\n",
            "Epoch [6/10], Batch [6], Loss: 1.7699\n",
            "Epoch [6/10], Batch [7], Loss: 1.5918\n",
            "Epoch [7/10], Batch [1], Loss: 1.4173\n",
            "Epoch [7/10], Batch [2], Loss: 3.1013\n",
            "Epoch [7/10], Batch [3], Loss: 2.1567\n",
            "Epoch [7/10], Batch [4], Loss: 1.3594\n",
            "Epoch [7/10], Batch [5], Loss: 1.2563\n",
            "Epoch [7/10], Batch [6], Loss: 1.6793\n",
            "Epoch [7/10], Batch [7], Loss: 1.0387\n",
            "Epoch [8/10], Batch [1], Loss: 1.3084\n",
            "Epoch [8/10], Batch [2], Loss: 2.3286\n",
            "Epoch [8/10], Batch [3], Loss: 1.4860\n",
            "Epoch [8/10], Batch [4], Loss: 1.3600\n",
            "Epoch [8/10], Batch [5], Loss: 1.4519\n",
            "Epoch [8/10], Batch [6], Loss: 1.5468\n",
            "Epoch [8/10], Batch [7], Loss: 1.0464\n",
            "Epoch [9/10], Batch [1], Loss: 0.8203\n",
            "Epoch [9/10], Batch [2], Loss: 2.1107\n",
            "Epoch [9/10], Batch [3], Loss: 1.3314\n",
            "Epoch [9/10], Batch [4], Loss: 0.9470\n",
            "Epoch [9/10], Batch [5], Loss: 1.1218\n",
            "Epoch [9/10], Batch [6], Loss: 1.6175\n",
            "Epoch [9/10], Batch [7], Loss: 0.9653\n",
            "Epoch [10/10], Batch [1], Loss: 0.9233\n",
            "Epoch [10/10], Batch [2], Loss: 1.9211\n",
            "Epoch [10/10], Batch [3], Loss: 1.0699\n",
            "Epoch [10/10], Batch [4], Loss: 0.9727\n",
            "Epoch [10/10], Batch [5], Loss: 1.2145\n",
            "Epoch [10/10], Batch [6], Loss: 1.4985\n",
            "Epoch [10/10], Batch [7], Loss: 0.9747\n"
          ]
        },
        {
          "output_type": "stream",
          "name": "stderr",
          "text": [
            "/usr/local/lib/python3.10/dist-packages/torch/nn/modules/loss.py:535: UserWarning: Using a target size (torch.Size([32])) that is different to the input size (torch.Size([32, 1])). This will likely lead to incorrect results due to broadcasting. Please ensure they have the same size.\n",
            "  return F.mse_loss(input, target, reduction=self.reduction)\n",
            "/usr/local/lib/python3.10/dist-packages/torch/nn/modules/loss.py:535: UserWarning: Using a target size (torch.Size([28])) that is different to the input size (torch.Size([28, 1])). This will likely lead to incorrect results due to broadcasting. Please ensure they have the same size.\n",
            "  return F.mse_loss(input, target, reduction=self.reduction)\n"
          ]
        }
      ]
    },
    {
      "cell_type": "markdown",
      "id": "86e3fc70-c6ce-4589-9930-128951290e8d",
      "metadata": {
        "id": "86e3fc70-c6ce-4589-9930-128951290e8d"
      },
      "source": [
        "## Task 4\n",
        "\n",
        "In this task, you will try to predict the number of crime victims as a **class number**. Therefore the machine learning problem is a **classification** problem.\n",
        "\n",
        "* Repeat all the steps in task 3. Specifically, pay attention to the differences with regression.\n",
        "* How would you find the number of classes on the output data?\n",
        "* How is the architecture different?\n",
        "* How is the loss function different?\n",
        "* Calculate the Accuracy for test data as the number of correct classified outputs divided by the total number of test data in each epoch. Report it at the end of each epoch\n",
        "* Try a few variations of learning rate, hidden dimensions, layers, etc. What is the best accuracy that you can get?"
      ]
    },
    {
      "cell_type": "code",
      "execution_count": 115,
      "id": "7d929c52-af34-4081-92cd-3463a3fc4db1",
      "metadata": {
        "colab": {
          "base_uri": "https://localhost:8080/"
        },
        "id": "7d929c52-af34-4081-92cd-3463a3fc4db1",
        "outputId": "3e657639-8666-4d55-f85b-57f3001e3e93"
      },
      "outputs": [
        {
          "output_type": "stream",
          "name": "stdout",
          "text": [
            "Epoch [1/10], Batch [1], Loss: 14.5854\n",
            "Epoch [1/10], Batch [2], Loss: 14.2261\n",
            "Epoch [1/10], Batch [3], Loss: 10.4558\n",
            "Epoch [1/10], Batch [4], Loss: 11.9208\n",
            "Epoch [1/10], Batch [5], Loss: 11.9259\n",
            "Epoch [1/10], Batch [6], Loss: 9.2010\n",
            "Epoch [1/10], Batch [7], Loss: 7.8157\n",
            "Epoch [2/10], Batch [1], Loss: 9.1064\n",
            "Epoch [2/10], Batch [2], Loss: 9.7298\n",
            "Epoch [2/10], Batch [3], Loss: 6.6564\n",
            "Epoch [2/10], Batch [4], Loss: 8.3051\n",
            "Epoch [2/10], Batch [5], Loss: 8.9351\n",
            "Epoch [2/10], Batch [6], Loss: 6.8183\n",
            "Epoch [2/10], Batch [7], Loss: 5.6615\n",
            "Epoch [3/10], Batch [1], Loss: 6.6548\n",
            "Epoch [3/10], Batch [2], Loss: 6.9566\n",
            "Epoch [3/10], Batch [3], Loss: 4.5468\n",
            "Epoch [3/10], Batch [4], Loss: 5.3442\n",
            "Epoch [3/10], Batch [5], Loss: 5.2958\n",
            "Epoch [3/10], Batch [6], Loss: 4.1320\n",
            "Epoch [3/10], Batch [7], Loss: 3.2892\n",
            "Epoch [4/10], Batch [1], Loss: 3.4401\n",
            "Epoch [4/10], Batch [2], Loss: 3.4472\n",
            "Epoch [4/10], Batch [3], Loss: 2.1472\n",
            "Epoch [4/10], Batch [4], Loss: 2.3025\n",
            "Epoch [4/10], Batch [5], Loss: 1.6666\n",
            "Epoch [4/10], Batch [6], Loss: 1.8741\n",
            "Epoch [4/10], Batch [7], Loss: 1.5965\n",
            "Epoch [5/10], Batch [1], Loss: 1.2257\n",
            "Epoch [5/10], Batch [2], Loss: 1.4198\n",
            "Epoch [5/10], Batch [3], Loss: 1.5711\n",
            "Epoch [5/10], Batch [4], Loss: 1.6702\n",
            "Epoch [5/10], Batch [5], Loss: 1.0220\n",
            "Epoch [5/10], Batch [6], Loss: 2.3595\n",
            "Epoch [5/10], Batch [7], Loss: 2.2415\n",
            "Epoch [6/10], Batch [1], Loss: 1.5733\n",
            "Epoch [6/10], Batch [2], Loss: 1.7327\n",
            "Epoch [6/10], Batch [3], Loss: 1.8024\n",
            "Epoch [6/10], Batch [4], Loss: 1.6571\n",
            "Epoch [6/10], Batch [5], Loss: 0.9598\n",
            "Epoch [6/10], Batch [6], Loss: 1.9136\n",
            "Epoch [6/10], Batch [7], Loss: 1.4578\n",
            "Epoch [7/10], Batch [1], Loss: 1.1550\n",
            "Epoch [7/10], Batch [2], Loss: 1.6459\n",
            "Epoch [7/10], Batch [3], Loss: 1.2387\n",
            "Epoch [7/10], Batch [4], Loss: 1.4459\n",
            "Epoch [7/10], Batch [5], Loss: 1.1855\n",
            "Epoch [7/10], Batch [6], Loss: 1.6932\n",
            "Epoch [7/10], Batch [7], Loss: 1.2291\n",
            "Epoch [8/10], Batch [1], Loss: 1.2766\n",
            "Epoch [8/10], Batch [2], Loss: 1.7578\n",
            "Epoch [8/10], Batch [3], Loss: 1.2137\n",
            "Epoch [8/10], Batch [4], Loss: 1.3149\n",
            "Epoch [8/10], Batch [5], Loss: 0.9949\n",
            "Epoch [8/10], Batch [6], Loss: 1.4959\n",
            "Epoch [8/10], Batch [7], Loss: 1.2276\n",
            "Epoch [9/10], Batch [1], Loss: 1.1046\n",
            "Epoch [9/10], Batch [2], Loss: 1.4592\n",
            "Epoch [9/10], Batch [3], Loss: 1.2892\n",
            "Epoch [9/10], Batch [4], Loss: 1.2800\n",
            "Epoch [9/10], Batch [5], Loss: 0.8815\n",
            "Epoch [9/10], Batch [6], Loss: 1.5162\n",
            "Epoch [9/10], Batch [7], Loss: 1.3343\n",
            "Epoch [10/10], Batch [1], Loss: 1.1114\n",
            "Epoch [10/10], Batch [2], Loss: 1.4141\n",
            "Epoch [10/10], Batch [3], Loss: 1.2005\n",
            "Epoch [10/10], Batch [4], Loss: 1.2703\n",
            "Epoch [10/10], Batch [5], Loss: 0.8727\n",
            "Epoch [10/10], Batch [6], Loss: 1.4267\n",
            "Epoch [10/10], Batch [7], Loss: 1.2309\n"
          ]
        }
      ],
      "source": [
        "from sklearn.preprocessing import LabelEncoder\n",
        "from sklearn.metrics import accuracy_score\n",
        "\n",
        "X = torch.tensor(df.drop(columns='VictimCount').values, dtype=torch.float32)\n",
        "y = torch.tensor(df['VictimCount'].values, dtype=torch.long)\n",
        "\n",
        "\n",
        "class ClassificationModel(nn.Module):\n",
        "    def __init__(self, input_size, hidden_size, num_classes):\n",
        "        super(ClassificationModel, self).__init__()\n",
        "        self.fc1 = nn.Linear(input_size, hidden_size)\n",
        "        self.fc2 = nn.Linear(hidden_size, num_classes)\n",
        "\n",
        "    def forward(self, x):\n",
        "        x = torch.relu(self.fc1(x))\n",
        "        x = self.fc2(x)\n",
        "        return x\n",
        "\n",
        "num_classes = len(torch.unique(y))\n",
        "\n",
        "dataset = TensorDataset(X, y)\n",
        "\n",
        "\n",
        "batch_size = 32\n",
        "\n",
        "X_train, X_test, y_train, y_test = train_test_split(X, y, test_size=0.2)\n",
        "\n",
        "train_dataset = TensorDataset(X_train, y_train)\n",
        "train_loader = DataLoader(train_dataset, batch_size=batch_size, shuffle=True)\n",
        "\n",
        "test_dataset = TensorDataset(X_test, y_test)\n",
        "test_loader = DataLoader(test_dataset, batch_size=batch_size, shuffle=False)\n",
        "\n",
        "input_size = 6\n",
        "hidden_size = 32\n",
        "model = ClassificationModel(input_size, hidden_size, num_classes)\n",
        "\n",
        "\n",
        "criterion = nn.CrossEntropyLoss()\n",
        "optimizer = optim.Adam(model.parameters(), lr=0.001)\n",
        "\n",
        "\n",
        "num_epochs = 10\n",
        "\n",
        "\n",
        "\n",
        "for epoch in range(num_epochs):\n",
        "    model.train()\n",
        "    for i in range(0, len(X_train), batch_size):\n",
        "        batch_X = X_train[i:i + batch_size]\n",
        "        batch_y = Y_train[i:i + batch_size].long()\n",
        "\n",
        "        outputs = model(batch_X)\n",
        "\n",
        "\n",
        "        loss = criterion(outputs, batch_y)\n",
        "\n",
        "        # print(loss)\n",
        "        optimizer.zero_grad()\n",
        "        loss.backward()\n",
        "        optimizer.step()\n",
        "\n",
        "        print(f'Epoch [{epoch + 1}/{num_epochs}], Batch [{i // batch_size + 1}], Loss: {loss.item():.4f}')"
      ]
    },
    {
      "cell_type": "markdown",
      "id": "84d2a304-6197-4cd9-b31e-745f7862f213",
      "metadata": {
        "id": "84d2a304-6197-4cd9-b31e-745f7862f213"
      },
      "source": [
        "## Task 5"
      ]
    },
    {
      "cell_type": "markdown",
      "id": "d6e4ef16-d828-45e5-bd58-1c49fcfecf52",
      "metadata": {
        "id": "d6e4ef16-d828-45e5-bd58-1c49fcfecf52"
      },
      "source": [
        "### Reflect on your results\n",
        "\n",
        "* Write a paragraph about your experience with tasks 3 and 4. How do you compare the results? Which one worked better? Why?\n",
        "* Write a piece of code that finds an example of a  miss-classification. Calculate the probabilities for the output classes and plot them in a bar chart. Also, indicate what is the correct class label."
      ]
    },
    {
      "cell_type": "markdown",
      "source": [
        "\n",
        "\n",
        "*   From the loss function I can observe that in my case with similar learning rate,batch size the loss function values didn't differ a lot from task 3 and 4.\n",
        "\n"
      ],
      "metadata": {
        "id": "3W0LgA6UhaTc"
      },
      "id": "3W0LgA6UhaTc"
    },
    {
      "cell_type": "code",
      "source": [
        "model.eval()\n",
        "with torch.no_grad():\n",
        "    test_outputs = model(X_test)\n",
        "    predicted = torch.argmax(test_outputs, 1)\n",
        "\n",
        "misclassified_index = None\n",
        "for i in range(len(Y_test)):\n",
        "    if predicted[i] != Y_test[i]:\n",
        "        misclassified_index = i\n",
        "        break\n",
        "\n",
        "if misclassified_index is not None:\n",
        "    misclassified_example = X_test[misclassified_index]\n",
        "    true_label = Y_test[misclassified_index].item()\n",
        "    predicted_label = predicted[misclassified_index].item()\n",
        "\n",
        "    class_probabilities = torch.softmax(test_outputs[misclassified_index], dim=0)\n",
        "    class_probabilities = class_probabilities.tolist()\n",
        "\n",
        "    classes = [0,1,2,3,4,5,6]\n",
        "    plt.figure(figsize=(8, 4))\n",
        "    plt.bar(classes, class_probabilities)\n",
        "    plt.title('Class Probabilities')\n",
        "    plt.xlabel('Class')\n",
        "    plt.ylabel('Probability')\n",
        "    plt.ylim(0, 1)\n",
        "    plt.show()\n",
        "else:\n",
        "    print(\"No misclassified examples found in the testing data.\")"
      ],
      "metadata": {
        "colab": {
          "base_uri": "https://localhost:8080/",
          "height": 410
        },
        "id": "NaNd-69Vf5V-",
        "outputId": "b5b0a21f-7d8c-4e92-9865-04ffab17f962"
      },
      "id": "NaNd-69Vf5V-",
      "execution_count": 118,
      "outputs": [
        {
          "output_type": "display_data",
          "data": {
            "text/plain": [
              "<Figure size 800x400 with 1 Axes>"
            ],
            "image/png": "[encoded data removed]"
          },
          "metadata": {}
        }
      ]
    },
    {
      "cell_type": "markdown",
      "id": "5b000b0b-fa37-4f8d-8ec7-0a1e6e749424",
      "metadata": {
        "id": "5b000b0b-fa37-4f8d-8ec7-0a1e6e749424"
      },
      "source": [
        "## Task 6: Exploring the patterns in raw data\n",
        "\n",
        "* Plot the crime incidents as a `scatter` plot using the corrdinates. Use the color property of each datapoint to indicate the day of the week. Is there a pattern in the plot?\n",
        "* Now make a new scatter plot and use the color property of each datapoint to indicate the number of persons involved in the incident. Is there a pattern here?\n",
        "* use numpy (or pandas if you like) to sort the number of crimes reported by the day of the week. What days are most frequent?\n"
      ]
    },
    {
      "cell_type": "code",
      "execution_count": 89,
      "id": "5b396aaf-5d1a-49cd-ae1d-b63af7e561f5",
      "metadata": {
        "colab": {
          "base_uri": "https://localhost:8080/",
          "height": 1000
        },
        "id": "5b396aaf-5d1a-49cd-ae1d-b63af7e561f5",
        "outputId": "cf0e93f9-e022-4368-d7f2-2d7235621f0a"
      },
      "outputs": [
        {
          "output_type": "display_data",
          "data": {
            "text/plain": [
              "<Figure size 1000x600 with 1 Axes>"
            ],
            "image/png": "[encoded data removed]"
          },
          "metadata": {}
        },
        {
          "output_type": "display_data",
          "data": {
            "text/plain": [
              "<Figure size 1000x600 with 1 Axes>"
            ],
            "image/png": "[encoded data removed]"
          },
          "metadata": {}
        },
        {
          "output_type": "stream",
          "name": "stdout",
          "text": [
            "   DayOfWeek  Count\n",
            "0          4     51\n",
            "1          3     44\n",
            "2          5     43\n",
            "3          0     40\n",
            "4          1     37\n",
            "5          2     32\n",
            "6          6     28\n"
          ]
        }
      ],
      "source": [
        "\n",
        "day_palette = sns.color_palette(\"Set1\", df2['DayOfWeek'].nunique())\n",
        "plt.figure(figsize=(10, 6))\n",
        "sns.scatterplot(x='X', y='Y', hue='DayOfWeek', data=df2[['X','Y','DayOfWeek']], palette=day_palette, s=25)\n",
        "plt.title(\"Crime Incidents by Day of the Week\")\n",
        "plt.xlabel(\"X (Longitude)\")\n",
        "plt.ylabel(\"Y (Latitude)\")\n",
        "plt.legend(title='Day of Week')\n",
        "plt.show()\n",
        "\n",
        "# print((df['DayOfWeek'].values))\n",
        "# print((df['VictimCount'].values))\n",
        "victim_palette = sns.color_palette(\"Set1\", df2['VictimCount'].nunique())\n",
        "plt.figure(figsize=(10, 6))\n",
        "sns.scatterplot(x='X', y='Y', hue='VictimCount', data=df2[['X','Y','VictimCount']], palette=victim_palette, s=25)\n",
        "plt.title(\"Crime Incidents by Victim Count\")\n",
        "plt.xlabel(\"X (Longitude)\")\n",
        "plt.ylabel(\"Y (Latitude)\")\n",
        "plt.legend(title='Victim Count')\n",
        "plt.show()\n",
        "\n",
        "\n",
        "day_counts = df['DayOfWeek'].value_counts().reset_index()\n",
        "day_counts.columns = ['DayOfWeek', 'Count']\n",
        "\n",
        "sorted_day_counts = day_counts.sort_values(by='Count', ascending=False)\n",
        "\n",
        "\n",
        "print(sorted_day_counts)\n",
        "\n",
        "\n"
      ]
    },
    {
      "cell_type": "markdown",
      "source": [
        "\n",
        "\n",
        "*   From the first graph, it's difficult to figure out a pattern.\n",
        "*   From the second graph, there is a pattern that a lot of crimes resulted in victims of 1 and 0.\n",
        "\n",
        "\n",
        "\n",
        "*   We also observe that most crimes occured on day 4 of the week followed by 3 and 5.\n",
        "\n",
        "\n"
      ],
      "metadata": {
        "id": "S1LvQExD2YjT"
      },
      "id": "S1LvQExD2YjT"
    }
  ],
  "metadata": {
    "kernelspec": {
      "display_name": "Python 3 (ipykernel)",
      "language": "python",
      "name": "python3"
    },
    "language_info": {
      "codemirror_mode": {
        "name": "ipython",
        "version": 3
      },
      "file_extension": ".py",
      "mimetype": "text/x-python",
      "name": "python",
      "nbconvert_exporter": "python",
      "pygments_lexer": "ipython3",
      "version": "3.11.5"
    },
    "colab": {
      "provenance": []
    }
  },
  "nbformat": 4,
  "nbformat_minor": 5
}